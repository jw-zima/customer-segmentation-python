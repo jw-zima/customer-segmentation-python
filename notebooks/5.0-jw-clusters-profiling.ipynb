{
 "cells": [
  {
   "cell_type": "markdown",
   "id": "411c5b33-1e94-475c-99b9-6591693f9f36",
   "metadata": {},
   "source": [
    "# SETUP"
   ]
  },
  {
   "cell_type": "code",
   "execution_count": 1,
   "id": "6fd66c03-d6ed-42be-bd45-32ad65bba4d9",
   "metadata": {},
   "outputs": [],
   "source": [
    "import os\n",
    "os.getcwd()\n",
    "os.chdir(\"..\")"
   ]
  },
  {
   "cell_type": "code",
   "execution_count": 2,
   "id": "02b3fdf5-2b34-40bd-b884-206a33dffc64",
   "metadata": {},
   "outputs": [],
   "source": [
    "import pandas as pd\n",
    "from plotnine import *"
   ]
  },
  {
   "cell_type": "code",
   "execution_count": 3,
   "id": "0710c9bc-8abe-4ef2-9b16-598f0dfeadad",
   "metadata": {},
   "outputs": [],
   "source": [
    "from src.visualization.visualize import plot_boxplot_by_cluster, plot_scatter_by_cluster, plot_share_of_binary_vars_per_clusters, plot_stacked_vars_per_clusters"
   ]
  },
  {
   "cell_type": "markdown",
   "id": "2c732b79-5872-4865-92bb-51430d7f3f09",
   "metadata": {},
   "source": [
    "# Data load"
   ]
  },
  {
   "cell_type": "code",
   "execution_count": 4,
   "id": "04cbdbdb-72d7-4c39-8092-c3eb9dd21fed",
   "metadata": {},
   "outputs": [],
   "source": [
    "df = pd.read_pickle('data/processed/marketing_campaign_with_clusters.pickle')"
   ]
  },
  {
   "cell_type": "code",
   "execution_count": 5,
   "id": "6e7b8561-8223-4d0f-b06c-8d49c3852651",
   "metadata": {},
   "outputs": [
    {
     "data": {
      "text/plain": [
       "count    2230.000000\n",
       "mean        0.298206\n",
       "std         0.678680\n",
       "min         0.000000\n",
       "25%         0.000000\n",
       "50%         0.000000\n",
       "75%         0.000000\n",
       "max         4.000000\n",
       "Name: nb_accepted_campaigns, dtype: float64"
      ]
     },
     "execution_count": 5,
     "metadata": {},
     "output_type": "execute_result"
    }
   ],
   "source": [
    "df.nb_accepted_campaigns.describe()"
   ]
  },
  {
   "cell_type": "markdown",
   "id": "2147ae22-4b82-4f94-99b9-22ca35b6972d",
   "metadata": {},
   "source": [
    "# Clusters profiling"
   ]
  },
  {
   "cell_type": "code",
   "execution_count": 6,
   "id": "7fe27874-ae78-4d7e-b7d1-9412e250740b",
   "metadata": {},
   "outputs": [],
   "source": [
    "num_features_to_scale = [\"age\", \"tenure_days\",\n",
    "                         \"recency\", \"income_per_person\", \"total_spendings\", \"total_spendings_per_person\", \"total_spendings_per_purchase\",\n",
    "                         \"numwebvisitsmonth\", \"total_purchases\",\n",
    "                         \"spendings_to_income\"]\n",
    "\n",
    "other_num_features = [\"is_parent\", \"nb_family_members\", \n",
    "                      \"wines_share\", \"fruits_share\", \"meat_share\", \"fish_share\", \"sweets_share\", \"gold_products_share\",\n",
    "                      \"pct_deals_purchases\", \"pct_web_purchasess\", \"pct_catalog_purchases\", \"pct_store_purchases\",\n",
    "                      \"complain\", \"response\", \"nb_accepted_campaigns\"]\n",
    "\n",
    "cat_features = [\"marital_status_cleaned\", \"education_cleaned\"]"
   ]
  },
  {
   "cell_type": "code",
   "execution_count": null,
   "id": "92827dc7-fea8-4543-8fec-543f27a0c76d",
   "metadata": {},
   "outputs": [],
   "source": []
  },
  {
   "cell_type": "code",
   "execution_count": 7,
   "id": "b9f5e59a-9d71-40b0-8cc8-a5f553dc003b",
   "metadata": {},
   "outputs": [],
   "source": [
    "# vars_list = [\"wines_share\", \"fruits_share\", \"meat_share\", \"fish_share\", \"sweets_share\", \"gold_products_share\"]\n",
    "# vars_list.append(\"cluster_kmeans\")\n",
    "# x = df.loc[:, var_list]\n",
    "# x.head()\n",
    "# x = x.groupby(\"cluster_kmeans\").agg(['mean'])\n"
   ]
  },
  {
   "cell_type": "code",
   "execution_count": 8,
   "id": "b41c5e64-92b4-46a3-b1ba-b0970e8eeb2c",
   "metadata": {},
   "outputs": [],
   "source": [
    "# x = x.unstack().reset_index()\n",
    "# x.columns = ['variable', 'agg_function', 'cluster_kmeans', 'mean_value']\n",
    "# x = x.drop('agg_function', axis = 1)\n",
    "# x"
   ]
  },
  {
   "cell_type": "code",
   "execution_count": 9,
   "id": "24729904-efdb-4059-a3e8-03bf939bb3b4",
   "metadata": {},
   "outputs": [],
   "source": [
    "# (ggplot(x, aes(fill=\"variable\", y=\"mean_value\", x=\"cluster_kmeans\"))\n",
    "# + geom_bar(position=\"fill\", stat=\"identity\")\n",
    "# + theme_light()\n",
    "# + scale_fill_brewer(type=\"qual\", palette=\"Dark2\"))"
   ]
  },
  {
   "cell_type": "code",
   "execution_count": 10,
   "id": "9bb1adc4-95c0-46bd-89cb-1adefc1cc17b",
   "metadata": {},
   "outputs": [
    {
     "ename": "NameError",
     "evalue": "name 'x' is not defined",
     "output_type": "error",
     "traceback": [
      "\u001b[1;31m---------------------------------------------------------------------------\u001b[0m",
      "\u001b[1;31mNameError\u001b[0m                                 Traceback (most recent call last)",
      "Input \u001b[1;32mIn [10]\u001b[0m, in \u001b[0;36m<cell line: 2>\u001b[1;34m()\u001b[0m\n\u001b[0;32m      1\u001b[0m vars_list \u001b[38;5;241m=\u001b[39m [\u001b[38;5;124m\"\u001b[39m\u001b[38;5;124mwines_share\u001b[39m\u001b[38;5;124m\"\u001b[39m, \u001b[38;5;124m\"\u001b[39m\u001b[38;5;124mfruits_share\u001b[39m\u001b[38;5;124m\"\u001b[39m, \u001b[38;5;124m\"\u001b[39m\u001b[38;5;124mmeat_share\u001b[39m\u001b[38;5;124m\"\u001b[39m, \u001b[38;5;124m\"\u001b[39m\u001b[38;5;124mfish_share\u001b[39m\u001b[38;5;124m\"\u001b[39m, \u001b[38;5;124m\"\u001b[39m\u001b[38;5;124msweets_share\u001b[39m\u001b[38;5;124m\"\u001b[39m, \u001b[38;5;124m\"\u001b[39m\u001b[38;5;124mgold_products_share\u001b[39m\u001b[38;5;124m\"\u001b[39m]\n\u001b[1;32m----> 2\u001b[0m \u001b[43mplot_stacked_vars_per_clusters\u001b[49m\u001b[43m(\u001b[49m\u001b[43mdf\u001b[49m\u001b[43m,\u001b[49m\u001b[43m \u001b[49m\u001b[43mvars_list\u001b[49m\u001b[43m,\u001b[49m\u001b[43m \u001b[49m\u001b[38;5;124;43m\"\u001b[39;49m\u001b[38;5;124;43mcluster_kmeans\u001b[39;49m\u001b[38;5;124;43m\"\u001b[39;49m\u001b[43m)\u001b[49m\n",
      "File \u001b[1;32m~\\data_science\\repos\\customer-segmentation\\src\\visualization\\visualize.py:168\u001b[0m, in \u001b[0;36mplot_stacked_vars_per_clusters\u001b[1;34m(df, vars_list, cluster_var)\u001b[0m\n\u001b[0;32m    165\u001b[0m df\u001b[38;5;241m.\u001b[39mcolumns \u001b[38;5;241m=\u001b[39m [\u001b[38;5;124m'\u001b[39m\u001b[38;5;124mvariable\u001b[39m\u001b[38;5;124m'\u001b[39m, \u001b[38;5;124m'\u001b[39m\u001b[38;5;124magg_function\u001b[39m\u001b[38;5;124m'\u001b[39m, \u001b[38;5;124m'\u001b[39m\u001b[38;5;124mcluster_kmeans\u001b[39m\u001b[38;5;124m'\u001b[39m, \u001b[38;5;124m'\u001b[39m\u001b[38;5;124mmean_value\u001b[39m\u001b[38;5;124m'\u001b[39m]\n\u001b[0;32m    166\u001b[0m df \u001b[38;5;241m=\u001b[39m df\u001b[38;5;241m.\u001b[39mdrop(\u001b[38;5;124m'\u001b[39m\u001b[38;5;124magg_function\u001b[39m\u001b[38;5;124m'\u001b[39m, axis \u001b[38;5;241m=\u001b[39m \u001b[38;5;241m1\u001b[39m)\n\u001b[1;32m--> 168\u001b[0m \u001b[38;5;28;01mreturn\u001b[39;00m \u001b[38;5;28mprint\u001b[39m(ggplot(\u001b[43mx\u001b[49m, aes(fill\u001b[38;5;241m=\u001b[39m\u001b[38;5;124m\"\u001b[39m\u001b[38;5;124mvariable\u001b[39m\u001b[38;5;124m\"\u001b[39m, y\u001b[38;5;241m=\u001b[39m\u001b[38;5;124m\"\u001b[39m\u001b[38;5;124mmean_value\u001b[39m\u001b[38;5;124m\"\u001b[39m, x\u001b[38;5;241m=\u001b[39m\u001b[38;5;124m\"\u001b[39m\u001b[38;5;124mcluster_kmeans\u001b[39m\u001b[38;5;124m\"\u001b[39m))\n\u001b[0;32m    169\u001b[0m              \u001b[38;5;241m+\u001b[39m geom_bar(position\u001b[38;5;241m=\u001b[39m\u001b[38;5;124m\"\u001b[39m\u001b[38;5;124mfill\u001b[39m\u001b[38;5;124m\"\u001b[39m, stat\u001b[38;5;241m=\u001b[39m\u001b[38;5;124m\"\u001b[39m\u001b[38;5;124midentity\u001b[39m\u001b[38;5;124m\"\u001b[39m)\n\u001b[0;32m    170\u001b[0m              \u001b[38;5;241m+\u001b[39m theme_light()\n\u001b[0;32m    171\u001b[0m              \u001b[38;5;241m+\u001b[39m scale_fill_brewer(\u001b[38;5;28mtype\u001b[39m\u001b[38;5;241m=\u001b[39m\u001b[38;5;124m\"\u001b[39m\u001b[38;5;124mqual\u001b[39m\u001b[38;5;124m\"\u001b[39m, palette\u001b[38;5;241m=\u001b[39m\u001b[38;5;124m\"\u001b[39m\u001b[38;5;124mDark2\u001b[39m\u001b[38;5;124m\"\u001b[39m))\n",
      "\u001b[1;31mNameError\u001b[0m: name 'x' is not defined"
     ]
    }
   ],
   "source": [
    "vars_list = [\"wines_share\", \"fruits_share\", \"meat_share\", \"fish_share\", \"sweets_share\", \"gold_products_share\"]\n",
    "plot_stacked_vars_per_clusters(df, vars_list, \"cluster_kmeans\")"
   ]
  },
  {
   "cell_type": "code",
   "execution_count": null,
   "id": "76a65d71-3dfd-4cdd-8918-3d0e8086eb5a",
   "metadata": {},
   "outputs": [],
   "source": [
    "vars_list = [\"pct_deals_purchases\", \"pct_web_purchasess\", \"pct_catalog_purchases\", \"pct_store_purchases\"]\n",
    "plot_stacked_vars_per_clusters(df, vars_list, \"cluster_kmeans\")"
   ]
  },
  {
   "cell_type": "markdown",
   "id": "da397fee-54b3-4a1b-9059-6fbf6db81b6e",
   "metadata": {},
   "source": [
    "## Density of each numeric var per cluster"
   ]
  },
  {
   "cell_type": "markdown",
   "id": "5b326dde-c4be-4a63-a6c1-08d0eca49b7b",
   "metadata": {},
   "source": [
    "With removed lowest and highest observations"
   ]
  },
  {
   "cell_type": "code",
   "execution_count": null,
   "id": "d7af1249-de08-4396-ae43-2823555dd4d0",
   "metadata": {},
   "outputs": [],
   "source": [
    "all_numeric_vars = num_features_to_scale + other_num_features\n",
    "\n",
    "for col in all_numeric_vars:\n",
    "    plot_boxplot_by_cluster(df, col, \"cluster_kmeans\", 0.03)"
   ]
  },
  {
   "cell_type": "markdown",
   "id": "49217db6-4522-48b8-be87-9e971936028e",
   "metadata": {},
   "source": [
    "No observations removed"
   ]
  },
  {
   "cell_type": "code",
   "execution_count": null,
   "id": "f922cee8-b288-42c7-a670-8ae5765cef5e",
   "metadata": {},
   "outputs": [],
   "source": [
    "plot_boxplot_by_cluster(df, \"nb_accepted_campaigns\", \"cluster_kmeans\", None)"
   ]
  },
  {
   "cell_type": "markdown",
   "id": "c032f1cc-dae2-4939-91d9-c108a98e1957",
   "metadata": {},
   "source": [
    "## Share of binery categories per cluster"
   ]
  },
  {
   "cell_type": "code",
   "execution_count": null,
   "id": "1e4e9049-a9a3-448e-a781-6bc77fc497ce",
   "metadata": {},
   "outputs": [],
   "source": [
    "for col in cat_features:\n",
    "    plot_share_of_binary_vars_per_clusters(df, col, \"cluster_kmeans\")"
   ]
  },
  {
   "cell_type": "markdown",
   "id": "d0b147a3-cf44-495a-abb6-79f0b2f82395",
   "metadata": {},
   "source": [
    "## Most important scatters with visible split by clusters"
   ]
  },
  {
   "cell_type": "code",
   "execution_count": null,
   "id": "d4027cd1-2a65-46fb-9072-877bd52cde6c",
   "metadata": {},
   "outputs": [],
   "source": [
    "paired_vars = [('income_per_person', 'total_spendings_per_person'),\n",
    "               ('income_per_person', 'total_purchases'),\n",
    "               ('total_spendings_per_person', 'total_purchases')]"
   ]
  },
  {
   "cell_type": "code",
   "execution_count": null,
   "id": "e1b37600-dc21-45a9-95da-1fbe2e6fcb94",
   "metadata": {},
   "outputs": [],
   "source": [
    "for pair in paired_vars:\n",
    "    plot_scatter_by_cluster(df, pair[0], pair[1], \"cluster_kmeans\")"
   ]
  },
  {
   "cell_type": "code",
   "execution_count": null,
   "id": "acddddb3-6792-42d5-8efc-7d587a79163e",
   "metadata": {},
   "outputs": [],
   "source": []
  }
 ],
 "metadata": {
  "kernelspec": {
   "display_name": "customer-segmentation",
   "language": "python",
   "name": "customer-segmentation"
  },
  "language_info": {
   "codemirror_mode": {
    "name": "ipython",
    "version": 3
   },
   "file_extension": ".py",
   "mimetype": "text/x-python",
   "name": "python",
   "nbconvert_exporter": "python",
   "pygments_lexer": "ipython3",
   "version": "3.9.12"
  }
 },
 "nbformat": 4,
 "nbformat_minor": 5
}
